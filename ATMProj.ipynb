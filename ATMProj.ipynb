{
  "cells": [
    {
      "cell_type": "markdown",
      "metadata": {
        "id": "view-in-github",
        "colab_type": "text"
      },
      "source": [
        "<a href=\"https://colab.research.google.com/github/OkWhyNot-jpg/friendly-doodle/blob/main/ATMProj.ipynb\" target=\"_parent\"><img src=\"https://colab.research.google.com/assets/colab-badge.svg\" alt=\"Open In Colab\"/></a>"
      ]
    },
    {
      "cell_type": "code",
      "source": [
        "#Code block to save my code\n",
        "\n",
        "# UserName = input(\"What is your first name? \")\n",
        "# UserAge = input(\"How old are you? \")\n",
        "# UserDOB = input(\"What is your date of birth? \")\n",
        "# UserPin = input(\"What would you like your pin to be? \")\n",
        "\n",
        "# sql = 'INSERT INTO UserInfo (id, name, age, dob, pin) values(?, ?, ?, ?, ?)'\n",
        "# data = [\n",
        "#     (1, UserName, UserAge, UserDOB, UserPin)\n",
        "#     #(2, 'Bob', 22, 6171997, 5678),\n",
        "#     #(3, 'Chris', 23, 1012007, 9012)\n",
        "# ]\n",
        "# con.commit()\n",
        "\n",
        "# with con:\n",
        "#     con.executemany(sql, data)\n",
        "\n",
        "#     sql = 'INSERT INTO UserInfo (id, name, age, dob, pin) values(?, ?, ?, ?, ?)'\n",
        "# data = [\n",
        "#     (1, 'Marcel', 21, 3142007, 1234),\n",
        "#     (2, 'Bob', 22, 6171997, 5678),\n",
        "#     (3, 'Chris', 23, 1012007, 9012)\n",
        "# ]\n",
        "# con.commit()\n",
        "\n",
        "# with con:\n",
        "#     con.executemany(sql, data)"
      ],
      "metadata": {
        "id": "Mr_DQ3mKBCUu"
      },
      "execution_count": null,
      "outputs": []
    },
    {
      "cell_type": "code",
      "source": [
        "import sqlite3\n",
        "import random\n",
        "import string\n",
        "con = sqlite3.connect(\"UserInfo.db\") #What goes into table for ATM: Name, Pin, DOB, Password\n",
        "cur = con.cursor()\n",
        "\n",
        "res = cur.execute(\"SELECT name FROM sqlite_master\")\n",
        "res.fetchone() is None\n",
        "\n",
        "\n",
        "# with con:\n",
        "#   con.execute(\"\"\"\n",
        "#       CREATE TABLE UserInfo (\n",
        "#           id INTEGER NOT NULL PRIMARY KEY AUTOINCREMENT,\n",
        "#           namefirst TEXT NOT NULL,\n",
        "#           namelast TEXT NOT NULL,\n",
        "#           age INTEGER NOT NULL,\n",
        "#           dob INTEGER NOT NULL,\n",
        "#           pin INTEGER NOT NULL,\n",
        "#           accnum INTERGER NOT NULL\n",
        "#          );\n",
        "#        \"\"\")\n",
        "\n",
        "UserNameFirst = input(\"What is your first name? \")\n",
        "UserNameLast = input(\"What is your last name? \")\n",
        "UserAge = input(\"How old are you? \")\n",
        "UserDOB = input(\"What is your date of birth? \")\n",
        "UserPin = input(\"What would you like your pin to be? \")\n",
        "AccountNum = ''.join(random.choice(string.digits) for _ in range(8))\n",
        "print(AccountNum)\n",
        "print(\"This is your account number, you need it to sign into your account\")\n",
        "\n",
        "sql = 'INSERT INTO UserInfo (namefirst, namelast, age, dob, pin, accnum) values(?, ?, ?, ?, ?, ?)'\n",
        "data = [\n",
        "    (UserNameFirst, UserNameLast, UserAge, UserDOB, UserPin, AccountNum)\n",
        "]\n",
        "con.commit()\n",
        "with con:\n",
        "    con.executemany(sql, data)\n"
      ],
      "metadata": {
        "id": "Ps7umUuty2Od",
        "outputId": "d3efec20-c6e8-44e5-82d1-dacc1cee8eea",
        "colab": {
          "base_uri": "https://localhost:8080/"
        }
      },
      "execution_count": 3,
      "outputs": [
        {
          "output_type": "stream",
          "name": "stdout",
          "text": [
            "What is your first name? Marcel\n",
            "What is your last name? Meunier\n",
            "How old are you? 16\n",
            "What is your date of birth? 3142007\n",
            "What would you like your pin to be? 1169\n",
            "54170792\n",
            "This is your account number, you need it to sign into your account\n"
          ]
        }
      ]
    },
    {
      "cell_type": "code",
      "source": [
        "with con:\n",
        "  data = con.execute(\"SELECT * FROM UserInfo\" )\n",
        "  for row in data:\n",
        "    print(row)"
      ],
      "metadata": {
        "id": "9KC-3YepAdox",
        "outputId": "136d04d1-4d13-4bf0-8284-70b180bb1f2a",
        "colab": {
          "base_uri": "https://localhost:8080/"
        }
      },
      "execution_count": 5,
      "outputs": [
        {
          "output_type": "stream",
          "name": "stdout",
          "text": [
            "(1, 'Marcel', 'Meunier', 16, 3142007, 1169, 54170792)\n"
          ]
        }
      ]
    },
    {
      "cell_type": "code",
      "execution_count": 10,
      "metadata": {
        "colab": {
          "base_uri": "https://localhost:8080/",
          "height": 572
        },
        "id": "Y094M7tUK69D",
        "outputId": "2b8253ac-533c-4f0f-8c10-4624e342ac45"
      },
      "outputs": [
        {
          "output_type": "stream",
          "name": "stdout",
          "text": [
            "Enter Account Number: \n",
            "1\n",
            "Please put in a valid input \n",
            "Account does not exist\n",
            "Please put in a valid input \n",
            "Account does not exist\n",
            "Please put in a valid input \n",
            "Account does not exist\n",
            "Please put in a valid input \n",
            "Account does not exist\n",
            "Enter Account Number: \n"
          ]
        },
        {
          "output_type": "error",
          "ename": "KeyboardInterrupt",
          "evalue": "ignored",
          "traceback": [
            "\u001b[0;31m---------------------------------------------------------------------------\u001b[0m",
            "\u001b[0;31mKeyboardInterrupt\u001b[0m                         Traceback (most recent call last)",
            "\u001b[0;32m<ipython-input-10-c279e5ab085e>\u001b[0m in \u001b[0;36m<cell line: 25>\u001b[0;34m()\u001b[0m\n\u001b[1;32m     23\u001b[0m       \u001b[0;32mbreak\u001b[0m\u001b[0;34m\u001b[0m\u001b[0;34m\u001b[0m\u001b[0m\n\u001b[1;32m     24\u001b[0m \u001b[0;34m\u001b[0m\u001b[0m\n\u001b[0;32m---> 25\u001b[0;31m \u001b[0mlogin\u001b[0m\u001b[0;34m(\u001b[0m\u001b[0;34m)\u001b[0m\u001b[0;34m\u001b[0m\u001b[0;34m\u001b[0m\u001b[0m\n\u001b[0m\u001b[1;32m     26\u001b[0m \u001b[0;34m\u001b[0m\u001b[0m\n\u001b[1;32m     27\u001b[0m \u001b[0;32mclass\u001b[0m \u001b[0mAccount\u001b[0m\u001b[0;34m:\u001b[0m\u001b[0;34m\u001b[0m\u001b[0;34m\u001b[0m\u001b[0m\n",
            "\u001b[0;32m<ipython-input-10-c279e5ab085e>\u001b[0m in \u001b[0;36mlogin\u001b[0;34m()\u001b[0m\n\u001b[1;32m      3\u001b[0m     \u001b[0mNumOfAttempts\u001b[0m \u001b[0;34m=\u001b[0m \u001b[0;36m0\u001b[0m\u001b[0;34m\u001b[0m\u001b[0;34m\u001b[0m\u001b[0m\n\u001b[1;32m      4\u001b[0m     \u001b[0mprint\u001b[0m\u001b[0;34m(\u001b[0m\u001b[0;34m'Enter Account Number: '\u001b[0m\u001b[0;34m)\u001b[0m\u001b[0;34m\u001b[0m\u001b[0;34m\u001b[0m\u001b[0m\n\u001b[0;32m----> 5\u001b[0;31m     \u001b[0mAccountNum\u001b[0m \u001b[0;34m=\u001b[0m \u001b[0minput\u001b[0m\u001b[0;34m(\u001b[0m\u001b[0;34m)\u001b[0m\u001b[0;34m\u001b[0m\u001b[0;34m\u001b[0m\u001b[0m\n\u001b[0m\u001b[1;32m      6\u001b[0m     \u001b[0mquery\u001b[0m \u001b[0;34m=\u001b[0m \u001b[0mcur\u001b[0m\u001b[0;34m.\u001b[0m\u001b[0mexecute\u001b[0m\u001b[0;34m(\u001b[0m\u001b[0;34m\"SELECT accnum FROM UserInfo WHERE accnum=\"\u001b[0m \u001b[0;34m+\u001b[0m \u001b[0mAccountNum\u001b[0m \u001b[0;34m)\u001b[0m\u001b[0;34m\u001b[0m\u001b[0;34m\u001b[0m\u001b[0m\n\u001b[1;32m      7\u001b[0m     \u001b[0mx\u001b[0m \u001b[0;34m=\u001b[0m \u001b[0mcur\u001b[0m\u001b[0;34m.\u001b[0m\u001b[0mfetchone\u001b[0m\u001b[0;34m(\u001b[0m\u001b[0;34m)\u001b[0m\u001b[0;34m\u001b[0m\u001b[0;34m\u001b[0m\u001b[0m\n",
            "\u001b[0;32m/usr/local/lib/python3.10/dist-packages/ipykernel/kernelbase.py\u001b[0m in \u001b[0;36mraw_input\u001b[0;34m(self, prompt)\u001b[0m\n\u001b[1;32m    849\u001b[0m                 \u001b[0;34m\"raw_input was called, but this frontend does not support input requests.\"\u001b[0m\u001b[0;34m\u001b[0m\u001b[0;34m\u001b[0m\u001b[0m\n\u001b[1;32m    850\u001b[0m             )\n\u001b[0;32m--> 851\u001b[0;31m         return self._input_request(str(prompt),\n\u001b[0m\u001b[1;32m    852\u001b[0m             \u001b[0mself\u001b[0m\u001b[0;34m.\u001b[0m\u001b[0m_parent_ident\u001b[0m\u001b[0;34m,\u001b[0m\u001b[0;34m\u001b[0m\u001b[0;34m\u001b[0m\u001b[0m\n\u001b[1;32m    853\u001b[0m             \u001b[0mself\u001b[0m\u001b[0;34m.\u001b[0m\u001b[0m_parent_header\u001b[0m\u001b[0;34m,\u001b[0m\u001b[0;34m\u001b[0m\u001b[0;34m\u001b[0m\u001b[0m\n",
            "\u001b[0;32m/usr/local/lib/python3.10/dist-packages/ipykernel/kernelbase.py\u001b[0m in \u001b[0;36m_input_request\u001b[0;34m(self, prompt, ident, parent, password)\u001b[0m\n\u001b[1;32m    893\u001b[0m             \u001b[0;32mexcept\u001b[0m \u001b[0mKeyboardInterrupt\u001b[0m\u001b[0;34m:\u001b[0m\u001b[0;34m\u001b[0m\u001b[0;34m\u001b[0m\u001b[0m\n\u001b[1;32m    894\u001b[0m                 \u001b[0;31m# re-raise KeyboardInterrupt, to truncate traceback\u001b[0m\u001b[0;34m\u001b[0m\u001b[0;34m\u001b[0m\u001b[0m\n\u001b[0;32m--> 895\u001b[0;31m                 \u001b[0;32mraise\u001b[0m \u001b[0mKeyboardInterrupt\u001b[0m\u001b[0;34m(\u001b[0m\u001b[0;34m\"Interrupted by user\"\u001b[0m\u001b[0;34m)\u001b[0m \u001b[0;32mfrom\u001b[0m \u001b[0;32mNone\u001b[0m\u001b[0;34m\u001b[0m\u001b[0;34m\u001b[0m\u001b[0m\n\u001b[0m\u001b[1;32m    896\u001b[0m             \u001b[0;32mexcept\u001b[0m \u001b[0mException\u001b[0m \u001b[0;32mas\u001b[0m \u001b[0me\u001b[0m\u001b[0;34m:\u001b[0m\u001b[0;34m\u001b[0m\u001b[0;34m\u001b[0m\u001b[0m\n\u001b[1;32m    897\u001b[0m                 \u001b[0mself\u001b[0m\u001b[0;34m.\u001b[0m\u001b[0mlog\u001b[0m\u001b[0;34m.\u001b[0m\u001b[0mwarning\u001b[0m\u001b[0;34m(\u001b[0m\u001b[0;34m\"Invalid Message:\"\u001b[0m\u001b[0;34m,\u001b[0m \u001b[0mexc_info\u001b[0m\u001b[0;34m=\u001b[0m\u001b[0;32mTrue\u001b[0m\u001b[0;34m)\u001b[0m\u001b[0;34m\u001b[0m\u001b[0;34m\u001b[0m\u001b[0m\n",
            "\u001b[0;31mKeyboardInterrupt\u001b[0m: Interrupted by user"
          ]
        }
      ],
      "source": [
        "def login():\n",
        "  while True:\n",
        "    NumOfAttempts = 0\n",
        "    print('Enter Account Number: ')\n",
        "    AccountNum = input()\n",
        "    query = cur.execute(\"SELECT accnum FROM UserInfo WHERE accnum=\" + AccountNum )\n",
        "    x = cur.fetchone()\n",
        "    Attempts = 0\n",
        "    #print(x)\n",
        "    #checkAccountNum = cur.execute(\"SELECT accnum FROM UserInfo WHERE accnum = \" + AccountNum )\n",
        "    if x is None:\n",
        "      #while Attempts <= 5:\n",
        "        #y = print(\"Please put in a valid input \")\n",
        "          print('Account does not exist')\n",
        "          #Attempts = Attempts + 1\n",
        "          continue\n",
        "        else:\n",
        "          print(\"You have successfully logged in \")\n",
        "          break\n",
        "    else:\n",
        "      print('Logged In!')\n",
        "      break\n",
        "\n",
        "login()\n",
        "\n",
        "class Account:\n",
        "    def __init__(self, username, password, cardNumber, pin):\n",
        "        self.username = username\n",
        "        self.password = password\n",
        "        self.cardNumber = cardNumber\n",
        "        self.pin = pin\n",
        "        self.balance = 0\n",
        "\n",
        "    def getBalance(self):\n",
        "        return self.balance\n",
        "\n",
        "    def setBalance(self, amount):\n",
        "        self.balance += amount\n",
        "\n",
        "class ATM:\n",
        "    def __init__(self):\n",
        "        self.userAccounts = []\n",
        "\n",
        "    def addAccount(self, account):\n",
        "        self.userAccounts.append(account)\n",
        "\n",
        "    def getBalance(self):\n",
        "        print(\"Which Account to get the balance? 1 or 2\")\n",
        "        accountNbr = int(input())\n",
        "        if accountNbr == 1:\n",
        "            print(\"\\nBalance: \" + str(self.userAccounts[0].getBalance()))\n",
        "        elif accountNbr == 2:\n",
        "            print(\"\\nBalance: \" + str(self.userAccounts[1].getBalance()))\n",
        "        else:\n",
        "            print(\"Account doesn't exist\")\n",
        "\n",
        "    def Deposit(self):\n",
        "        print(\"Which Account to deposit the balance? 1 or 2\")\n",
        "        accountNbr = int(input())\n",
        "        print(\"Amount?\")\n",
        "        amount = float(input())\n",
        "        if accountNbr == 1:\n",
        "            self.userAccounts[0].setBalance(amount)\n",
        "        elif accountNbr == 2:\n",
        "            self.userAccounts[1].setBalance(amount)\n",
        "        else:\n",
        "            print(\"Account doesn't exist\")\n",
        "\n",
        "    def Witdraw(self):\n",
        "        print(\"Which Account to withdraw the balance? 1 or 2\")\n",
        "        accountNbr = int(input())\n",
        "        print(\"Amount?\")\n",
        "        amount = float(input())\n",
        "        if accountNbr == 1:\n",
        "            self.userAccounts[0].setBalance(-amount)\n",
        "        elif accountNbr == 2:\n",
        "            self.userAccounts[1].setBalance(-amount)\n",
        "        else:\n",
        "            print(\"Account doesn't exist\")\n",
        "\n",
        "    def Transfer(self):\n",
        "        print(\"Which Account to transfer to 1 or 2?\")\n",
        "        userInput = int(input())\n",
        "        print(\"Amount?\")\n",
        "        if userInput == 1:\n",
        "            amount = float(input())\n",
        "            self.userAccounts[0].setBalance(amount)\n",
        "            self.userAccounts[1].setBalance(-amount)\n",
        "        elif userInput == 2:\n",
        "            amount = float(input())\n",
        "            self.userAccounts[0].setBalance(-amount)\n",
        "            self.userAccounts[1].setBalance(amount)\n",
        "\n",
        "    def printBalances(self):\n",
        "        print(\"Balance 1: \" + str(self.userAccounts[0].balance))\n",
        "        print(\"Balance 2: \" + str(self.userAccounts[1].balance))\n",
        "\n",
        "    def atmPrompt(self):\n",
        "        print(\"====================================\")\n",
        "        print(\"0. Exit Program\")\n",
        "        print(\"1. Get Balance\")\n",
        "        print(\"2. Deposit Balance\")\n",
        "        print(\"3. Withdraw Balance\")\n",
        "        print(\"4. Print Balance\")\n",
        "        print(\"5. Transfer Balance\")\n",
        "        print(\"====================================\")\n",
        "\n",
        "\n",
        "def main():\n",
        "    account1 = Account('mmeunier', 'password1', 4111111111111111, 1234)\n",
        "    account2 = Account('mmeunier', 'password2', 5111111111111111, 4321)\n",
        "    atm = ATM()\n",
        "    atm.addAccount(account1)\n",
        "    atm.addAccount(account2)\n",
        "\n",
        "    while True:\n",
        "        try:\n",
        "            atm.atmPrompt()\n",
        "            userInput = int(input(\"Enter an instruction: \"))\n",
        "            if int(userInput) == 0:\n",
        "                print(\"Programmed ended!\")\n",
        "                break\n",
        "            elif int(userInput) == 1:\n",
        "                atm.getBalance()\n",
        "            elif int(userInput) == 2:\n",
        "                atm.Deposit()\n",
        "            elif int(userInput) == 3:\n",
        "                atm.Witdraw()\n",
        "            elif int(userInput) == 4:\n",
        "                atm.printBalances()\n",
        "            elif int(userInput) == 5:\n",
        "                atm.Transfer()\n",
        "            else:\n",
        "                print(\"Incorrect input\")\n",
        "        except:\n",
        "            print(\"\\nPlease enter a number.\")\n",
        "\n",
        "\n",
        "if __name__ == \"__main__\":\n",
        "    main()\n",
        "\n"
      ]
    },
    {
      "cell_type": "code",
      "source": [
        "with con:\n",
        "  data = con.execute(\"SELECT accnum FROM UserInfo WHERE \" )\n",
        "  for row in data:\n",
        "    print(row)"
      ],
      "metadata": {
        "id": "PCvdOFYXXvh7",
        "outputId": "1edb86bb-07c1-4bd4-d7eb-b63d30cbb8bb",
        "colab": {
          "base_uri": "https://localhost:8080/"
        }
      },
      "execution_count": null,
      "outputs": [
        {
          "output_type": "stream",
          "name": "stdout",
          "text": [
            "(36783431,)\n",
            "(63689067,)\n"
          ]
        }
      ]
    },
    {
      "cell_type": "code",
      "source": [
        "import random\n",
        "import string\n",
        "AccountNum = print(''.join(random.choice(string.digits) for _ in range(8)))\n"
      ],
      "metadata": {
        "id": "_gZgng-ANgaC",
        "outputId": "ba3afec2-d711-4322-b65b-61d2292da56f",
        "colab": {
          "base_uri": "https://localhost:8080/"
        }
      },
      "execution_count": null,
      "outputs": [
        {
          "output_type": "stream",
          "name": "stdout",
          "text": [
            "11285438\n"
          ]
        }
      ]
    }
  ],
  "metadata": {
    "colab": {
      "provenance": [],
      "authorship_tag": "ABX9TyONPcAlXJX+OA97Ans+Q6gi",
      "include_colab_link": true
    },
    "kernelspec": {
      "display_name": "Python 3",
      "name": "python3"
    },
    "language_info": {
      "name": "python"
    }
  },
  "nbformat": 4,
  "nbformat_minor": 0
}