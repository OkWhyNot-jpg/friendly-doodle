{
  "cells": [
    {
      "cell_type": "markdown",
      "metadata": {
        "id": "view-in-github",
        "colab_type": "text"
      },
      "source": [
        "<a href=\"https://colab.research.google.com/github/OkWhyNot-jpg/friendly-doodle/blob/main/ATMProj.ipynb\" target=\"_parent\"><img src=\"https://colab.research.google.com/assets/colab-badge.svg\" alt=\"Open In Colab\"/></a>"
      ]
    },
    {
      "cell_type": "code",
      "source": [
        "#Code block to save my code\n",
        "\n",
        "# UserName = input(\"What is your first name? \")\n",
        "# UserAge = input(\"How old are you? \")\n",
        "# UserDOB = input(\"What is your date of birth? \")\n",
        "# UserPin = input(\"What would you like your pin to be? \")\n",
        "\n",
        "# sql = 'INSERT INTO UserInfo (id, name, age, dob, pin) values(?, ?, ?, ?, ?)'\n",
        "# data = [\n",
        "#     (1, UserName, UserAge, UserDOB, UserPin)\n",
        "#     #(2, 'Bob', 22, 6171997, 5678),\n",
        "#     #(3, 'Chris', 23, 1012007, 9012)\n",
        "# ]\n",
        "# con.commit()\n",
        "\n",
        "# with con:\n",
        "#     con.executemany(sql, data)\n",
        "\n",
        "#     sql = 'INSERT INTO UserInfo (id, name, age, dob, pin) values(?, ?, ?, ?, ?)'\n",
        "# data = [\n",
        "#     (1, 'Marcel', 21, 3142007, 1234),\n",
        "#     (2, 'Bob', 22, 6171997, 5678),\n",
        "#     (3, 'Chris', 23, 1012007, 9012)\n",
        "# ]\n",
        "# con.commit()\n",
        "\n",
        "# with con:\n",
        "#     con.executemany(sql, data)"
      ],
      "metadata": {
        "id": "Mr_DQ3mKBCUu"
      },
      "execution_count": null,
      "outputs": []
    },
    {
      "cell_type": "code",
      "source": [
        "import sqlite3 as sl\n",
        "import random\n",
        "import string\n",
        "con = sqlite3.connect(\"UserInfo.db\") #What goes into table for ATM: Name, Pin, DOB, Password\n",
        "cur = con.cursor()\n",
        "\n",
        "res = cur.execute(\"SELECT name FROM sqlite_master\")\n",
        "res.fetchone() is None\n",
        "\n",
        "\n",
        "# with con:\n",
        "#   con.execute(\"\"\"\n",
        "#       CREATE TABLE UserInfo (\n",
        "#           id INTEGER NOT NULL PRIMARY KEY AUTOINCREMENT,\n",
        "#           namefirst TEXT NOT NULL,\n",
        "#           namelast TEXT NOT NULL,\n",
        "#           age INTEGER NOT NULL,\n",
        "#           dob INTEGER NOT NULL,\n",
        "#           pin INTEGER NOT NULL,\n",
        "#           accnum INTERGER NOT NULL\n",
        "#          );\n",
        "#        \"\"\")\n",
        "\n",
        "UserNameFirst = input(\"What is your first name? \")\n",
        "UserNameLast = input(\"What is your last name? \")\n",
        "UserAge = input(\"How old are you? \")\n",
        "UserDOB = input(\"What is your date of birth? \")\n",
        "UserPin = input(\"What would you like your pin to be? \")\n",
        "AccountNum = ''.join(random.choice(string.digits) for _ in range(8))\n",
        "print(AccountNum)\n",
        "print(\"This is your account number, you need it to sign into your account\")\n",
        "\n",
        "sql = 'INSERT INTO UserInfo (namefirst, namelast, age, dob, pin, accnum) values(?, ?, ?, ?, ?, ?)'\n",
        "data = [\n",
        "    (UserNameFirst, UserNameLast, UserAge, UserDOB, UserPin, AccountNum)\n",
        "]\n",
        "con.commit()\n",
        "with con:\n",
        "    con.executemany(sql, data)\n"
      ],
      "metadata": {
        "id": "Ps7umUuty2Od",
        "outputId": "28814997-d32a-411e-f8e6-6154480521f3",
        "colab": {
          "base_uri": "https://localhost:8080/"
        }
      },
      "execution_count": null,
      "outputs": [
        {
          "output_type": "stream",
          "name": "stdout",
          "text": [
            "What is your first name? awd\n",
            "What is your last name? asd\n",
            "How old are you? 213\n",
            "What is your date of birth? 0312421\n",
            "What would you like your pin to be? 1421\n",
            "63689067\n",
            "This is your account number, you need it to sign into your account\n"
          ]
        }
      ]
    },
    {
      "cell_type": "code",
      "source": [
        "with con:\n",
        "  data = con.execute(\"SELECT * FROM UserInfo\" )\n",
        "  for row in data:\n",
        "    print(row)"
      ],
      "metadata": {
        "id": "9KC-3YepAdox",
        "outputId": "d26b41d2-663a-490a-a5d2-0e6f86939ac8",
        "colab": {
          "base_uri": "https://localhost:8080/"
        }
      },
      "execution_count": 81,
      "outputs": [
        {
          "output_type": "stream",
          "name": "stdout",
          "text": [
            "(1, 'Marcel', 'Meunier', 16, 3142007, 1169, 4951345)\n"
          ]
        }
      ]
    },
    {
      "cell_type": "code",
      "execution_count": 106,
      "metadata": {
        "colab": {
          "base_uri": "https://localhost:8080/"
        },
        "id": "Y094M7tUK69D",
        "outputId": "e4f5344d-a9ae-4dbe-ab74-8e0c7d0d1773"
      },
      "outputs": [
        {
          "output_type": "stream",
          "name": "stdout",
          "text": [
            "Enter Account Number: \n",
            "1\n",
            "None\n",
            "Account does not exist\n",
            "====================================\n",
            "0. Exit Program\n",
            "1. Get Balance\n",
            "2. Deposit Balance\n",
            "3. Withdraw Balance\n",
            "4. Print Balance\n",
            "5. Transfer Balance\n",
            "====================================\n",
            "Enter an instruction: 0\n",
            "Programmed ended!\n"
          ]
        }
      ],
      "source": [
        "def login():\n",
        "  while True:\n",
        "    NumOfAttempts = 0\n",
        "    print('Enter Account Number: ')\n",
        "    AccountNum = input()\n",
        "    query = cur.execute(\"SELECT accnum FROM UserInfo WHERE accnum=\" + AccountNum )\n",
        "    x = cur.fetchone()\n",
        "    print(x)\n",
        "    #checkAccountNum = cur.execute(\"SELECT accnum FROM UserInfo WHERE accnum = \" + AccountNum )\n",
        "    if x is None:\n",
        "        print('Account does not exist')\n",
        "        continue\n",
        "    else:\n",
        "      print('Logged In!')\n",
        "      break\n",
        "\n",
        "login()\n",
        "\n",
        "class Account:\n",
        "    def __init__(self, username, password, cardNumber, pin):\n",
        "        self.username = username\n",
        "        self.password = password\n",
        "        self.cardNumber = cardNumber\n",
        "        self.pin = pin\n",
        "        self.balance = 0\n",
        "\n",
        "    def getBalance(self):\n",
        "        return self.balance\n",
        "\n",
        "    def setBalance(self, amount):\n",
        "        self.balance += amount\n",
        "\n",
        "class ATM:\n",
        "    def __init__(self):\n",
        "        self.userAccounts = []\n",
        "\n",
        "    def addAccount(self, account):\n",
        "        self.userAccounts.append(account)\n",
        "\n",
        "    def getBalance(self):\n",
        "        print(\"Which Account to get the balance? 1 or 2\")\n",
        "        accountNbr = int(input())\n",
        "        if accountNbr == 1:\n",
        "            print(\"\\nBalance: \" + str(self.userAccounts[0].getBalance()))\n",
        "        elif accountNbr == 2:\n",
        "            print(\"\\nBalance: \" + str(self.userAccounts[1].getBalance()))\n",
        "        else:\n",
        "            print(\"Account doesn't exist\")\n",
        "\n",
        "    def Deposit(self):\n",
        "        print(\"Which Account to deposit the balance? 1 or 2\")\n",
        "        accountNbr = int(input())\n",
        "        print(\"Amount?\")\n",
        "        amount = float(input())\n",
        "        if accountNbr == 1:\n",
        "            self.userAccounts[0].setBalance(amount)\n",
        "        elif accountNbr == 2:\n",
        "            self.userAccounts[1].setBalance(amount)\n",
        "        else:\n",
        "            print(\"Account doesn't exist\")\n",
        "\n",
        "    def Witdraw(self):\n",
        "        print(\"Which Account to withdraw the balance? 1 or 2\")\n",
        "        accountNbr = int(input())\n",
        "        print(\"Amount?\")\n",
        "        amount = float(input())\n",
        "        if accountNbr == 1:\n",
        "            self.userAccounts[0].setBalance(-amount)\n",
        "        elif accountNbr == 2:\n",
        "            self.userAccounts[1].setBalance(-amount)\n",
        "        else:\n",
        "            print(\"Account doesn't exist\")\n",
        "\n",
        "    def Transfer(self):\n",
        "        print(\"Which Account to transfer to 1 or 2?\")\n",
        "        userInput = int(input())\n",
        "        print(\"Amount?\")\n",
        "        if userInput == 1:\n",
        "            amount = float(input())\n",
        "            self.userAccounts[0].setBalance(amount)\n",
        "            self.userAccounts[1].setBalance(-amount)\n",
        "        elif userInput == 2:\n",
        "            amount = float(input())\n",
        "            self.userAccounts[0].setBalance(-amount)\n",
        "            self.userAccounts[1].setBalance(amount)\n",
        "\n",
        "    def printBalances(self):\n",
        "        print(\"Balance 1: \" + str(self.userAccounts[0].balance))\n",
        "        print(\"Balance 2: \" + str(self.userAccounts[1].balance))\n",
        "\n",
        "    def atmPrompt(self):\n",
        "        print(\"====================================\")\n",
        "        print(\"0. Exit Program\")\n",
        "        print(\"1. Get Balance\")\n",
        "        print(\"2. Deposit Balance\")\n",
        "        print(\"3. Withdraw Balance\")\n",
        "        print(\"4. Print Balance\")\n",
        "        print(\"5. Transfer Balance\")\n",
        "        print(\"====================================\")\n",
        "\n",
        "\n",
        "def main():\n",
        "    account1 = Account('mmeunier', 'password1', 4111111111111111, 1234)\n",
        "    account2 = Account('mmeunier', 'password2', 5111111111111111, 4321)\n",
        "    atm = ATM()\n",
        "    atm.addAccount(account1)\n",
        "    atm.addAccount(account2)\n",
        "\n",
        "    while True:\n",
        "        try:\n",
        "            atm.atmPrompt()\n",
        "            userInput = int(input(\"Enter an instruction: \"))\n",
        "            if int(userInput) == 0:\n",
        "                print(\"Programmed ended!\")\n",
        "                break\n",
        "            elif int(userInput) == 1:\n",
        "                atm.getBalance()\n",
        "            elif int(userInput) == 2:\n",
        "                atm.Deposit()\n",
        "            elif int(userInput) == 3:\n",
        "                atm.Witdraw()\n",
        "            elif int(userInput) == 4:\n",
        "                atm.printBalances()\n",
        "            elif int(userInput) == 5:\n",
        "                atm.Transfer()\n",
        "            else:\n",
        "                print(\"Incorrect input\")\n",
        "        except:\n",
        "            print(\"\\nPlease enter a number.\")\n",
        "\n",
        "\n",
        "if __name__ == \"__main__\":\n",
        "    main()\n",
        "\n"
      ]
    },
    {
      "cell_type": "code",
      "source": [
        "with con:\n",
        "  data = con.execute(\"SELECT accnum FROM UserInfo WHERE \" )\n",
        "  for row in data:\n",
        "    print(row)"
      ],
      "metadata": {
        "id": "PCvdOFYXXvh7",
        "outputId": "1edb86bb-07c1-4bd4-d7eb-b63d30cbb8bb",
        "colab": {
          "base_uri": "https://localhost:8080/"
        }
      },
      "execution_count": null,
      "outputs": [
        {
          "output_type": "stream",
          "name": "stdout",
          "text": [
            "(36783431,)\n",
            "(63689067,)\n"
          ]
        }
      ]
    },
    {
      "cell_type": "code",
      "source": [
        "import random\n",
        "import string\n",
        "AccountNum = print(''.join(random.choice(string.digits) for _ in range(8)))\n"
      ],
      "metadata": {
        "id": "_gZgng-ANgaC",
        "outputId": "ba3afec2-d711-4322-b65b-61d2292da56f",
        "colab": {
          "base_uri": "https://localhost:8080/"
        }
      },
      "execution_count": null,
      "outputs": [
        {
          "output_type": "stream",
          "name": "stdout",
          "text": [
            "11285438\n"
          ]
        }
      ]
    }
  ],
  "metadata": {
    "colab": {
      "provenance": [],
      "authorship_tag": "ABX9TyM86OpQ7YNxsLlxnRdb/8gS",
      "include_colab_link": true
    },
    "kernelspec": {
      "display_name": "Python 3",
      "name": "python3"
    },
    "language_info": {
      "name": "python"
    }
  },
  "nbformat": 4,
  "nbformat_minor": 0
}