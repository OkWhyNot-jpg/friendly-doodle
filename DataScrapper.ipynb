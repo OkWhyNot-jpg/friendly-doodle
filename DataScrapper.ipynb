{
  "nbformat": 4,
  "nbformat_minor": 0,
  "metadata": {
    "colab": {
      "provenance": [],
      "authorship_tag": "ABX9TyN4hyT/ZibMfvdn9n5PcJdW",
      "include_colab_link": true
    },
    "kernelspec": {
      "name": "python3",
      "display_name": "Python 3"
    },
    "language_info": {
      "name": "python"
    }
  },
  "cells": [
    {
      "cell_type": "markdown",
      "metadata": {
        "id": "view-in-github",
        "colab_type": "text"
      },
      "source": [
        "<a href=\"https://colab.research.google.com/github/OkWhyNot-jpg/friendly-doodle/blob/main/DataScrapper.ipynb\" target=\"_parent\"><img src=\"https://colab.research.google.com/assets/colab-badge.svg\" alt=\"Open In Colab\"/></a>"
      ]
    },
    {
      "cell_type": "code",
      "execution_count": null,
      "metadata": {
        "id": "6sSRUya2r7qS"
      },
      "outputs": [],
      "source": [
        "#Html tag is <div class=quote> for each quote\n",
        "#Scrape (div.quote) elements from the 10 pages\n",
        "import requests\n",
        "import numpy as np\n",
        "import pandas as pd\n",
        "import matplotlib.pyplot as plt\n",
        "from bs4 import BeautifulSoup\n",
        "%matplotlib inline\n",
        "page = 1\n",
        "while page != 11:\n",
        "  url = f'http://quotes.toscrape.com/page/{page}/'\n",
        "  page = page + 1\n",
        "  response = requests.get(url)\n",
        "\n",
        "  soup = BeautifulSoup(response.text, 'html.parser')\n",
        "  print(soup.title)\n",
        "\n",
        "  quotes = soup.findAll('div', {'class': 'quote'}) #soup.findAll\n",
        "  for i in quotes:\n",
        "    Quote = i.find('span', {'class': 'text'})\n",
        "    Author = i.find('small', {'class': 'author'}) #print(i.text.strip()) worked\n",
        "    print(\"\\nQuotes\\n\")\n",
        "    #print(i.text.strip())\n",
        "    print(Quote.text.strip())\n",
        "    print(Author.text.strip())\n",
        "\n",
        "\n",
        "\n",
        "\n",
        "\n",
        "\n"
      ]
    }
  ]
}