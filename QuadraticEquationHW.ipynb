{
  "nbformat": 4,
  "nbformat_minor": 0,
  "metadata": {
    "colab": {
      "provenance": [],
      "authorship_tag": "ABX9TyM05hJ6b+fO1eTNSxmqbQ2R",
      "include_colab_link": true
    },
    "kernelspec": {
      "name": "python3",
      "display_name": "Python 3"
    },
    "language_info": {
      "name": "python"
    }
  },
  "cells": [
    {
      "cell_type": "markdown",
      "metadata": {
        "id": "view-in-github",
        "colab_type": "text"
      },
      "source": [
        "<a href=\"https://colab.research.google.com/github/OkWhyNot-jpg/friendly-doodle/blob/main/QuadraticEquationHW.ipynb\" target=\"_parent\"><img src=\"https://colab.research.google.com/assets/colab-badge.svg\" alt=\"Open In Colab\"/></a>"
      ]
    },
    {
      "cell_type": "code",
      "execution_count": 2,
      "metadata": {
        "colab": {
          "base_uri": "https://localhost:8080/"
        },
        "id": "j5nXebqQO4mH",
        "outputId": "0eaafda5-1fbb-4d19-ae8d-4d1756416c03"
      },
      "outputs": [
        {
          "output_type": "stream",
          "name": "stdout",
          "text": [
            "Enter a: 1\n",
            "Enter b: 2\n",
            "Enter c: 1\n",
            "The solutions are (-1+0j) and (-1+0j)\n"
          ]
        }
      ],
      "source": [
        "import cmath  \n",
        "a = float(input('Enter a: '))  \n",
        "b = float(input('Enter b: '))  \n",
        "c = float(input('Enter c: '))  \n",
        "\n",
        "d = (b**2) - (4*a*c)  \n",
        " \n",
        "sol1 = (-b-cmath.sqrt(d))/(2*a)  \n",
        "sol2 = (-b+cmath.sqrt(d))/(2*a)  \n",
        "print('The solutions are {0} and {1}'.format(sol1,sol2))   "
      ]
    },
    {
      "cell_type": "code",
      "source": [
        "#try and except, also continue skips the things past it and repeats the loop \n",
        "print(\"Type in your a, b, and c value \")\n",
        "while True:\n",
        "  a = input('Enter a: ')  \n",
        "  b = input('Enter b: ')  \n",
        "  c = input('Enter c: ')\n",
        "  try: \n",
        "    a = float(a)\n",
        "    b = float(b)\n",
        "    c = float(c)\n",
        "    d = (b**2) - (4*a*c)\n",
        "    sol1 = (-b-(d**0.5))/(2*a)\n",
        "    sol2 = (-b+(d**0.5))/(2*a)\n",
        "    print(\"The solutions are {0} and {1}\" .format(sol1,sol2))\n",
        "    break\n",
        "  except ValueError:\n",
        "    print(\"Please type in a number\")\n",
        "    continue\n",
        "    "
      ],
      "metadata": {
        "id": "bmKsAs45yNEg",
        "outputId": "946aa6ff-6ec9-417b-a703-ec2fb494f852",
        "colab": {
          "base_uri": "https://localhost:8080/"
        }
      },
      "execution_count": 69,
      "outputs": [
        {
          "output_type": "stream",
          "name": "stdout",
          "text": [
            "Type in your a, b, and c value \n",
            "Enter a: h\n",
            "Enter b: 1\n",
            "Enter c: r\n",
            "Please type in a number\n",
            "Enter a: 1\n",
            "Enter b: 2\n",
            "Enter c: 1\n",
            "The solutions are -1.0 and -1.0\n"
          ]
        }
      ]
    }
  ]
}