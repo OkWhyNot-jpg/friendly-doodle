{
  "nbformat": 4,
  "nbformat_minor": 0,
  "metadata": {
    "colab": {
      "provenance": [],
      "authorship_tag": "ABX9TyMWxJ0TXBxpY4EZR2YfFFIf",
      "include_colab_link": true
    },
    "kernelspec": {
      "name": "python3",
      "display_name": "Python 3"
    },
    "language_info": {
      "name": "python"
    }
  },
  "cells": [
    {
      "cell_type": "markdown",
      "metadata": {
        "id": "view-in-github",
        "colab_type": "text"
      },
      "source": [
        "<a href=\"https://colab.research.google.com/github/OkWhyNot-jpg/friendly-doodle/blob/main/Test.ipynb\" target=\"_parent\"><img src=\"https://colab.research.google.com/assets/colab-badge.svg\" alt=\"Open In Colab\"/></a>"
      ]
    },
    {
      "cell_type": "code",
      "execution_count": null,
      "metadata": {
        "colab": {
          "base_uri": "https://localhost:8080/"
        },
        "id": "r6dZN4mTmS8n",
        "outputId": "65797efd-70fd-496a-ae29-8b979d1ec13c"
      },
      "outputs": [
        {
          "output_type": "stream",
          "name": "stdout",
          "text": [
            "Hello World\n"
          ]
        }
      ],
      "source": [
        "print(\"Hello World\")"
      ]
    },
    {
      "cell_type": "code",
      "source": [
        "365//48 "
      ],
      "metadata": {
        "colab": {
          "base_uri": "https://localhost:8080/"
        },
        "id": "W3sJMlTzsA2H",
        "outputId": "21342c61-337c-41b4-f2a3-566b9b02bb9e"
      },
      "execution_count": 2,
      "outputs": [
        {
          "output_type": "execute_result",
          "data": {
            "text/plain": [
              "7"
            ]
          },
          "metadata": {},
          "execution_count": 2
        }
      ]
    },
    {
      "cell_type": "code",
      "source": [
        "myname = \"Marcel Meunier\"\n",
        "print(myname)"
      ],
      "metadata": {
        "colab": {
          "base_uri": "https://localhost:8080/"
        },
        "id": "_SjI8cnisK7g",
        "outputId": "7e949bb6-d30a-45bd-adc4-c9374cde9fb2"
      },
      "execution_count": 4,
      "outputs": [
        {
          "output_type": "stream",
          "name": "stdout",
          "text": [
            "Marcel Meunier\n"
          ]
        }
      ]
    },
    {
      "cell_type": "code",
      "source": [
        "763 + 8763/ 45"
      ],
      "metadata": {
        "colab": {
          "base_uri": "https://localhost:8080/"
        },
        "id": "VPUxieIusVCb",
        "outputId": "f73b3448-8bf5-49c4-d2cd-e1936fc93bf4"
      },
      "execution_count": 5,
      "outputs": [
        {
          "output_type": "execute_result",
          "data": {
            "text/plain": [
              "957.7333333333333"
            ]
          },
          "metadata": {},
          "execution_count": 5
        }
      ]
    },
    {
      "cell_type": "code",
      "source": [
        "34238//938"
      ],
      "metadata": {
        "colab": {
          "base_uri": "https://localhost:8080/"
        },
        "id": "_WsV-Ch7sbLb",
        "outputId": "cb911140-e5f0-4d25-fb28-a1ff2449817e"
      },
      "execution_count": 6,
      "outputs": [
        {
          "output_type": "execute_result",
          "data": {
            "text/plain": [
              "36"
            ]
          },
          "metadata": {},
          "execution_count": 6
        }
      ]
    },
    {
      "cell_type": "code",
      "source": [
        "input(\"What's your name\")"
      ],
      "metadata": {
        "colab": {
          "base_uri": "https://localhost:8080/",
          "height": 53
        },
        "id": "65uBBag0tJLI",
        "outputId": "655dcada-6c4b-41b6-9791-d84f138e3a50"
      },
      "execution_count": 8,
      "outputs": [
        {
          "name": "stdout",
          "output_type": "stream",
          "text": [
            "What's your name Marcel\n"
          ]
        },
        {
          "output_type": "execute_result",
          "data": {
            "text/plain": [
              "' Marcel'"
            ],
            "application/vnd.google.colaboratory.intrinsic+json": {
              "type": "string"
            }
          },
          "metadata": {},
          "execution_count": 8
        }
      ]
    },
    {
      "cell_type": "code",
      "source": [
        "myname = input(\"What's your name \")\n",
        "if myname == \"Marcel\":\n",
        "  print(\"Hello\")\n",
        "else:\n",
        "  print(\"Can't let you in\")"
      ],
      "metadata": {
        "colab": {
          "base_uri": "https://localhost:8080/"
        },
        "id": "Jbt-xOMjt-B6",
        "outputId": "a430a256-bc14-4c49-f1cd-cfa3dd3d8cb1"
      },
      "execution_count": 17,
      "outputs": [
        {
          "output_type": "stream",
          "name": "stdout",
          "text": [
            "What's your name Marcel\n",
            "Hello\n"
          ]
        }
      ]
    },
    {
      "cell_type": "code",
      "source": [
        "myname = input(\"What's your name? \")\n",
        "if myname == \"Marcel\":\n",
        "  print(\"Hello Marcel\")\n",
        "elif myname == \"Ocean\":\n",
        "  print(\"Hello Ocean\")\n",
        "else: \n",
        "  print(\"Hello Daniel\")"
      ],
      "metadata": {
        "colab": {
          "base_uri": "https://localhost:8080/"
        },
        "id": "_qDuN4kEvyqD",
        "outputId": "cd194f1b-e1dd-40e5-d4ae-b59fd31021ad"
      },
      "execution_count": 54,
      "outputs": [
        {
          "output_type": "stream",
          "name": "stdout",
          "text": [
            "What's your name? Marcel\n",
            "Hello Marcel\n"
          ]
        }
      ]
    },
    {
      "cell_type": "code",
      "source": [
        "Pickanumber = input(\"Pick a number. 57,8,92 \")\n",
        "if == 57\n",
        "  print(\"Correct\")\n",
        "else:\n",
        "  print(\"Incorrect\")\n"
      ],
      "metadata": {
        "id": "wFBBnb-Jwkks"
      },
      "execution_count": null,
      "outputs": []
    },
    {
      "cell_type": "code",
      "source": [
        "name = input(\"What is your name? \")\n",
        "feeling = input(\"How has your day been? \")\n",
        "while name == \"Marcel\":\n",
        "  if name == \"Marcel\":\n",
        "    print(\"Hello Marcel\")\n",
        "    input(\"How has your day been? \")\n",
        "    if feeling == \"Good\" or \"Great\":\n",
        "      print(\"Great to hear\")\n",
        "    else:\n",
        "        print(\"Ok\")\n",
        "    break\n",
        "else:\n",
        "  input(\"What are you doing here? \")\n",
        "  print(\"I can't let you in\")\n",
        "\n",
        "\n",
        "  \n",
        "\n",
        "\n"
      ],
      "metadata": {
        "colab": {
          "base_uri": "https://localhost:8080/"
        },
        "id": "3-_oi8BqxjxA",
        "outputId": "98b5f852-057c-4612-ec16-32105e3cae60"
      },
      "execution_count": 53,
      "outputs": [
        {
          "output_type": "stream",
          "name": "stdout",
          "text": [
            "What is your name? Marcel\n",
            "How has your day been? Great\n",
            "Hello Marcel\n",
            "How has your day been? Great\n",
            "Great to hear\n"
          ]
        }
      ]
    },
    {
      "cell_type": "code",
      "source": [
        "Cars = [\"Car\",\"truck\",\"Suv\",\"Bus\"]\n",
        "for Cars in Cars:\n",
        "  print(Cars)"
      ],
      "metadata": {
        "colab": {
          "base_uri": "https://localhost:8080/"
        },
        "id": "Bx6Vj_-f5DLD",
        "outputId": "12bf0b5a-d9f1-43b6-823a-9e77708d3400"
      },
      "execution_count": 59,
      "outputs": [
        {
          "output_type": "stream",
          "name": "stdout",
          "text": [
            "Car\n",
            "truck\n",
            "Suv\n",
            "Bus\n"
          ]
        }
      ]
    },
    {
      "cell_type": "code",
      "source": [
        "for i in range(5):\n",
        "  print(i)\n",
        "for j in range(1,5):\n",
        "  print(j)"
      ],
      "metadata": {
        "colab": {
          "base_uri": "https://localhost:8080/"
        },
        "id": "KnKqMk736Ecr",
        "outputId": "4d611fe8-a1ea-4d7c-c248-37ea18108406"
      },
      "execution_count": 64,
      "outputs": [
        {
          "output_type": "stream",
          "name": "stdout",
          "text": [
            "0\n",
            "1\n",
            "2\n",
            "3\n",
            "4\n",
            "1\n",
            "2\n",
            "3\n",
            "4\n"
          ]
        }
      ]
    },
    {
      "cell_type": "code",
      "source": [
        "Foods = [\"Burger\",\"Taco\",\"Sandwich\",\"Soup\"]\n",
        "name = input(\"What is your name? \")\n",
        "if name == \"Marcel\" or \"Ocean\" or \"Daniel\":\n",
        "  print(\"Hello \" + name)\n",
        "  MenuY = input(\"Would you like to see our menu? \")\n",
        "  if MenuY == \"Yes\":\n",
        "    for Food in Foods:\n",
        "      print(Food)\n",
        "      Order = input(\"What would you like to order? \")\n",
        "      print(\"Alright I'll tell the kitchen that your \" + Order + \" is on the way\")\n",
        "      break\n",
        "  else:\n",
        "    print(\"So you're not ordering anything? Okay, I'll tell the kitchen\")\n",
        "  \n"
      ],
      "metadata": {
        "colab": {
          "base_uri": "https://localhost:8080/"
        },
        "id": "73QReyzS6_4X",
        "outputId": "29eb1334-8d30-400d-e94f-6712bf69b5ce"
      },
      "execution_count": 84,
      "outputs": [
        {
          "output_type": "stream",
          "name": "stdout",
          "text": [
            "What is your name? Marcel\n",
            "Hello Marcel\n",
            "Would you like to see our menu? Yes\n",
            "Burger\n",
            "What would you like to order? Burger\n",
            "Alright I'll tell the kitchen that your Burger is on the way\n"
          ]
        }
      ]
    }
  ]
}