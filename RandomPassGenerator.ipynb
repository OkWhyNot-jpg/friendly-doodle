{
  "nbformat": 4,
  "nbformat_minor": 0,
  "metadata": {
    "colab": {
      "provenance": [],
      "authorship_tag": "ABX9TyOHttOS/jjdQWJisRnGfM5k",
      "include_colab_link": true
    },
    "kernelspec": {
      "name": "python3",
      "display_name": "Python 3"
    },
    "language_info": {
      "name": "python"
    }
  },
  "cells": [
    {
      "cell_type": "markdown",
      "metadata": {
        "id": "view-in-github",
        "colab_type": "text"
      },
      "source": [
        "<a href=\"https://colab.research.google.com/github/OkWhyNot-jpg/friendly-doodle/blob/main/RandomPassGenerator.ipynb\" target=\"_parent\"><img src=\"https://colab.research.google.com/assets/colab-badge.svg\" alt=\"Open In Colab\"/></a>"
      ]
    },
    {
      "cell_type": "code",
      "source": [],
      "metadata": {
        "id": "eZQTPp04q2JW"
      },
      "execution_count": null,
      "outputs": []
    },
    {
      "cell_type": "code",
      "execution_count": 11,
      "metadata": {
        "id": "sC2FqoZTPW_C",
        "colab": {
          "base_uri": "https://localhost:8080/"
        },
        "outputId": "935c9cdc-e931-4117-b870-9b1af92d9fc2"
      },
      "outputs": [
        {
          "output_type": "stream",
          "name": "stdout",
          "text": [
            "7qiR6mHh%W=CLvT~\n",
            "m}yqA5+q/bE]4-hE\n"
          ]
        }
      ],
      "source": [
        "import string\n",
        "import secrets \n",
        "\n",
        "letters = string.ascii_letters\n",
        "digits = string.digits\n",
        "special_chars = string.punctuation\n",
        "alphabet = letters + digits + special_chars\n",
        "\n",
        "pwd_length = 16\n",
        "\n",
        "pwd = ''\n",
        "for i in range(pwd_length):\n",
        "  pwd += ''.join(secrets.choice(alphabet))\n",
        "\n",
        "print(pwd)\n",
        "\n",
        "while True:\n",
        "  pwd = ''\n",
        "  for i in range(pwd_length):\n",
        "    pwd += ''.join(secrets.choice(alphabet))\n",
        "\n",
        "  if (any(char in special_chars for char in pwd) and \n",
        "      sum(char in digits for char in pwd)>=2):\n",
        "          break\n",
        "print(pwd)"
      ]
    }
  ]
}