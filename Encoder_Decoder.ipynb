{
  "nbformat": 4,
  "nbformat_minor": 0,
  "metadata": {
    "colab": {
      "provenance": [],
      "authorship_tag": "ABX9TyMPdbJrZPSI/H/lqmsvELcU",
      "include_colab_link": true
    },
    "kernelspec": {
      "name": "python3",
      "display_name": "Python 3"
    },
    "language_info": {
      "name": "python"
    }
  },
  "cells": [
    {
      "cell_type": "markdown",
      "metadata": {
        "id": "view-in-github",
        "colab_type": "text"
      },
      "source": [
        "<a href=\"https://colab.research.google.com/github/OkWhyNot-jpg/friendly-doodle/blob/main/Encoder_Decoder.ipynb\" target=\"_parent\"><img src=\"https://colab.research.google.com/assets/colab-badge.svg\" alt=\"Open In Colab\"/></a>"
      ]
    },
    {
      "cell_type": "code",
      "source": [
        "def encode(message):\n",
        "    encoded_message = ''\n",
        "    for char in message:\n",
        "        if char.isdigit():\n",
        "            # Shift each digit by 3 positions\n",
        "            encoded_char = str((int(char) + 3) % 10)\n",
        "        elif char.isalpha():\n",
        "            if char.islower():\n",
        "                # Shift lowercase letters by 3 positions in the alphabet\n",
        "                encoded_char = chr((ord(char) - ord('a') + 3) % 26 + ord('a'))\n",
        "            else:\n",
        "                # Shift uppercase letters by 3 positions in the alphabet\n",
        "                encoded_char = chr((ord(char) - ord('A') + 3) % 26 + ord('A'))\n",
        "        else:\n",
        "            encoded_char = char\n",
        "        encoded_message += encoded_char\n",
        "    return encoded_message\n",
        "\n",
        "\n",
        "def decode(encoded_message):\n",
        "    decoded_message = ''\n",
        "    for char in encoded_message:\n",
        "        if char.isdigit():\n",
        "            # Shift each digit back by 3 positions\n",
        "            decoded_char = str((int(char) - 3) % 10)\n",
        "        elif char.isalpha():\n",
        "            if char.islower():\n",
        "                # Shift lowercase letters back by 3 positions in the alphabet\n",
        "                decoded_char = chr((ord(char) - ord('a') - 3) % 26 + ord('a'))\n",
        "            else:\n",
        "                # Shift uppercase letters back by 3 positions in the alphabet\n",
        "                decoded_char = chr((ord(char) - ord('A') - 3) % 26 + ord('A'))\n",
        "        else:\n",
        "            decoded_char = char\n",
        "        decoded_message += decoded_char\n",
        "    return decoded_message\n",
        "\n",
        "\n",
        "# Example usage\n",
        "user_choice = input(\"Enter 'E' to encode or 'D' to decode: \")\n",
        "\n",
        "if user_choice.upper() == 'E':\n",
        "    user_input = input(\"Enter a message to encode (only alphabetic characters and spaces allowed): \")\n",
        "    while not user_input.replace(' ', '').isalpha():\n",
        "        print(\"Invalid input. Only alphabetic characters and spaces are allowed.\")\n",
        "        user_input = input(\"Enter a message to encode (only alphabetic characters and spaces allowed): \")\n",
        "\n",
        "    encoded_input = encode(user_input)\n",
        "    print(\"Encoded message:\", encoded_input)\n",
        "elif user_choice.upper() == 'D':\n",
        "    user_input = input(\"Enter a message to decode (only alphabetic characters and spaces allowed): \")\n",
        "    while not user_input.replace(' ', '').isalpha():\n",
        "        print(\"Invalid input. Only alphabetic characters and spaces are allowed.\")\n",
        "        user_input = input(\"Enter a message to decode (only alphabetic characters and spaces allowed): \")\n",
        "\n",
        "    decoded_input = decode(user_input)\n",
        "    print(\"Decoded message:\", decoded_input)\n",
        "else:\n",
        "    print(\"Invalid choice. Please enter 'E' to encode or 'D' to decode.\")\n"
      ],
      "metadata": {
        "colab": {
          "base_uri": "https://localhost:8080/"
        },
        "id": "a2R5xEq1H_Hh",
        "outputId": "9d482870-8ae1-46f1-9b94-b21a3a4c3572"
      },
      "execution_count": 70,
      "outputs": [
        {
          "output_type": "stream",
          "name": "stdout",
          "text": [
            "Enter 'E' to encode or 'D' to decode: E\n",
            "Enter a message to encode (only alphabetic characters and spaces allowed): 1231\n",
            "Invalid input. Only alphabetic characters and spaces are allowed.\n",
            "Enter a message to encode (only alphabetic characters and spaces allowed): Marcel\n",
            "Encoded message: Pdufho\n"
          ]
        }
      ]
    }
  ]
}