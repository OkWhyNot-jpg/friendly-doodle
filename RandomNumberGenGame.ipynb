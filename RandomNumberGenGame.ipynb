{
  "nbformat": 4,
  "nbformat_minor": 0,
  "metadata": {
    "colab": {
      "provenance": [],
      "authorship_tag": "ABX9TyMW/0cT6rfRVKbUK5XhJmQj",
      "include_colab_link": true
    },
    "kernelspec": {
      "name": "python3",
      "display_name": "Python 3"
    },
    "language_info": {
      "name": "python"
    }
  },
  "cells": [
    {
      "cell_type": "markdown",
      "metadata": {
        "id": "view-in-github",
        "colab_type": "text"
      },
      "source": [
        "<a href=\"https://colab.research.google.com/github/OkWhyNot-jpg/friendly-doodle/blob/main/RandomNumberGenGame.ipynb\" target=\"_parent\"><img src=\"https://colab.research.google.com/assets/colab-badge.svg\" alt=\"Open In Colab\"/></a>"
      ]
    },
    {
      "cell_type": "code",
      "execution_count": 44,
      "metadata": {
        "id": "DC7eEPfvB6hM",
        "colab": {
          "base_uri": "https://localhost:8080/"
        },
        "outputId": "b00cddb3-20ea-4779-f08a-0b02670e796c"
      },
      "outputs": [
        {
          "output_type": "stream",
          "name": "stdout",
          "text": [
            "Type a number 1 through 10 5\n",
            "1\n",
            "Sorry better luck next time\n",
            "-1\n"
          ]
        }
      ],
      "source": [
        "import random\n",
        "\n",
        "score = 0\n",
        "UserNum = input(\"Type a number 1 through 10 \")\n",
        "RanNum = print(random.randint(1,10))\n",
        "if UserNum == RanNum:\n",
        "  print(\"Nice job\")\n",
        "  score = score + 1\n",
        "else:\n",
        "  print(\"Sorry better luck next time\")\n",
        "  score = score - 1\n",
        "print(score)\n"
      ]
    },
    {
      "cell_type": "code",
      "source": [
        "import random\n",
        "\n",
        "score = 0\n",
        "print(\"Welcome to Random Number Generator\")\n",
        "print(\"Enter 0 to exit\")\n",
        "print(\"-------------------------------\")\n",
        "userInput = -2\n",
        "\n",
        "while userInput != 0:\n",
        "    userInput = int(input(\"Type a number 1 through 10: \"))\n",
        "    print(\"Number generated:\")\n",
        "    randNum = random.randint(1, 10)\n",
        "    print(randNum)\n",
        "\n",
        "    if userInput == randNum:\n",
        "        print(\"You guessed right! You earn a point!\")\n",
        "        score += 1\n",
        "    else:\n",
        "        print(\"Wrong guess\")\n",
        "        score -= 1\n",
        "    \n",
        "    print(\"Your score = \" + str(score))\n",
        "\n",
        "print(\"Exiting the program. Final score = \" + str(score))\n"
      ],
      "metadata": {
        "colab": {
          "base_uri": "https://localhost:8080/"
        },
        "id": "Rhnj-To3g6F4",
        "outputId": "e29102e9-41c7-4f30-cf02-5002eb94556e"
      },
      "execution_count": 46,
      "outputs": [
        {
          "output_type": "stream",
          "name": "stdout",
          "text": [
            "Welcome to Random Number Generator\n",
            "Enter 0 to exit\n",
            "-------------------------------\n",
            "Type a number 1 through 10: 2\n",
            "Number generated:\n",
            "8\n",
            "Wrong guess\n",
            "Your score = -1\n",
            "Type a number 1 through 10: 4\n",
            "Number generated:\n",
            "4\n",
            "You guessed right! You earn a point!\n",
            "Your score = 0\n",
            "Type a number 1 through 10: 7\n",
            "Number generated:\n",
            "9\n",
            "Wrong guess\n",
            "Your score = -1\n",
            "Type a number 1 through 10: 0\n",
            "Number generated:\n",
            "3\n",
            "Wrong guess\n",
            "Your score = -2\n",
            "Exiting the program. Final score = -2\n"
          ]
        }
      ]
    }
  ]
}